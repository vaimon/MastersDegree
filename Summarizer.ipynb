{
  "cells": [
    {
      "cell_type": "code",
      "execution_count": null,
      "metadata": {
        "id": "u22iRY7PBvDc"
      },
      "outputs": [],
      "source": [
        "!pip install sentence-transformers"
      ]
    },
    {
      "cell_type": "code",
      "execution_count": null,
      "metadata": {
        "id": "RN9c7mktFINV"
      },
      "outputs": [],
      "source": [
        "!pip install datasets"
      ]
    },
    {
      "cell_type": "code",
      "execution_count": null,
      "metadata": {
        "id": "UwGTja5WHUBv"
      },
      "outputs": [],
      "source": [
        "from google.colab import drive\n",
        "drive.mount('/content/drive/')\n",
        "\n",
        "!unzip \"/content/drive/MyDrive/Colab Notebooks/gazeta.zip\" -d /content/dataset/"
      ]
    },
    {
      "cell_type": "code",
      "execution_count": null,
      "metadata": {
        "id": "BFAvu-ZeFwXy"
      },
      "outputs": [],
      "source": [
        "from transformers import T5Tokenizer, T5ForConditionalGeneration\n",
        "from datasets import load_dataset\n",
        "import torch"
      ]
    },
    {
      "cell_type": "code",
      "execution_count": null,
      "metadata": {
        "id": "t1qHZn47GYmT"
      },
      "outputs": [],
      "source": [
        "from datasets import Dataset, DatasetDict\n",
        "\n",
        "dataset_train = Dataset.from_json(\"/content/dataset/gazeta_train.jsonl\")\n",
        "dataset_test = Dataset.from_json(\"/content/dataset/gazeta_test.jsonl\")\n",
        "dataset_val = Dataset.from_json(\"/content/dataset/gazeta_val.jsonl\")\n",
        "\n",
        "russian_dataset = DatasetDict({\"train\": dataset_train, \"validation\": dataset_val, \"test\": dataset_test })\n",
        "russian_dataset"
      ]
    },
    {
      "cell_type": "code",
      "execution_count": null,
      "metadata": {
        "id": "H2M-b_HbtHF4"
      },
      "outputs": [],
      "source": [
        "from datasets import load_dataset\n",
        "\n",
        "english_dataset = load_dataset('cnn_dailymail', '1.0.0')\n",
        "english_dataset"
      ]
    },
    {
      "cell_type": "code",
      "execution_count": null,
      "metadata": {
        "id": "V1cDu8HLtiLg"
      },
      "outputs": [],
      "source": [
        "english_dataset = english_dataset.rename_columns({'article': 'text', 'highlights': 'summary'})\n",
        "english_dataset = english_dataset.remove_columns(\"id\")\n",
        "english_dataset"
      ]
    },
    {
      "cell_type": "code",
      "execution_count": null,
      "metadata": {
        "id": "ad_UgZk7u69B"
      },
      "outputs": [],
      "source": [
        "russian_dataset = russian_dataset.remove_columns(['date', 'url', 'title',])\n",
        "russian_dataset"
      ]
    },
    {
      "cell_type": "code",
      "execution_count": null,
      "metadata": {
        "id": "-OBC7IKOvGvs"
      },
      "outputs": [],
      "source": [
        "from datasets import concatenate_datasets\n",
        "\n",
        "dataset = DatasetDict()\n",
        "\n",
        "def concat_and_slice(split, size):\n",
        "  dataset[split] = concatenate_datasets(\n",
        "        [russian_dataset[split].select(range(0,size)), english_dataset[split].select(range(0,size))]\n",
        "    ).shuffle(seed=100)\n",
        "\n",
        "\n",
        "concat_and_slice('train', 15000)\n",
        "concat_and_slice('validation', 2000)\n",
        "concat_and_slice('test', 2000)\n",
        "\n",
        "dataset"
      ]
    },
    {
      "cell_type": "code",
      "execution_count": null,
      "metadata": {
        "colab": {
          "base_uri": "https://localhost:8080/"
        },
        "id": "43Ll20MeGc1E",
        "outputId": "f795c1b6-d6e1-4d49-c5a6-e8887bda7a96"
      },
      "outputs": [
        {
          "output_type": "stream",
          "name": "stdout",
          "text": [
            "\n",
            "Summary: 'Web site estimates English got its millionth word at 5:22 a.m. Wednesday . English accumulates new words from other languages and from its global reach . Linguists question group's formula, which estimates rate of new words . English has more words than any other language, site says .'\n",
            "Text: '(CNN) -- English contains more words than any other language on the planet and added its millionth word early Wednesday, according to the Global Language Monitor, a Web site that uses a math formula to estimate how often words are created. The Global Language Monitor says the millionth word was added to English on Wednesday. The site estimates the millionth English word, \"Web 2.0\" was added to the language Wednesday at 5:22 a.m. ET. The term refers to the second, more social generation of the Internet. The site says more than 14 words are added to English every day, at the current rate. The \"Million Word March,\" however, has made the man who runs this word-counting project somewhat of a pariah in the linguistic community. Some linguists say it's impossible to count the number of words in a language because languages are always changing, and because defining what counts as a word is a fruitless endeavor. Paul J.J. Payack, president and chief word analyst for the Global Language Monitor, says, however, that the million-word estimation isn't as important as the idea behind his project, which is to show that English has become a complex, global language. \"It's a people's language,\" he said. Other languages, like French, Payack said, put big walls around their vocabularies. English brings others in. \"English has the tradition of swallowing new words whole,\" he said. \"Other languages translate.\" The Internet, global commerce and global travel have accelerated the trend by putting English in contact with many other linguistic groups. This has made English more rich and more complex -- hence all of the new terms, he said. Still, Payack says he doesn't include all new words in his count. Words must make sense in at least 60 percent of the world to be official, he said. And they must make sense to different communities of people. A new technology term that's only understood in Silicon Valley wouldn't count as a mainstream word, he said. His computer models check billions of Web sites -- including the Global Top 5,000 media sites -- dictionaries, scholarly publications and news articles to see how frequently words are used, he said. A word must make 25,000 appearances to be deemed legitimate.  Learn about how other languages stack up » . Payack said news events have also fueled the rapid expansion of English, which he said has more words than any other language. Mandarin Chinese comes in second with about 450,000 words, he said. English terms like \"Obamamania,\" \"defriend,\" \"wardrobe malfunction,\" \"zombie banks,\" \"shovel ready\" and \"recessionista\" all have grown out of recent news cycles about the presidential election, economic crash, online networking or a sports event, he said. Other languages might not have developed new terms to deal with such phenomena, he said. Language experts who spoke with CNN said they disapprove of Payack's count, but they agree that English generally has more words than most, if not all, languages. \"This is stuff that you just can't count,\" said Jesse Sheidlower, editor at large of the Oxford English Dictionary. \"No one can count it, and to pretend that you can is totally disingenuous. It simply can't be done.\" The Oxford English Dictionary has about 600,000 entries, Sheidlower said. But that by no means includes all words, he said. For example, Sheidlower said \"great-great-great-great grandfather\" could be considered a word, but wouldn't be in the dictionary. There's a similar problem with numbers, which may be counted up by their pieces -- \"twenty\" and \"three\" -- but not always as a group, as in \"two-hundred twenty-three.\" Part of what makes determining the number of words in a language so difficult is that there are so many root words and their variants, said Sarah Thomason, president of the Linguistic Society of America and a linguistics professor at the University of Michigan. In the language of native Alaskans, she said, there are dozens of words for snow, but many of them are linked together and wouldn't be counted individually. Does that mean, she asked, that \"slush,\" \"powder\" and other snow words in English should be counted as one entry? Thomason called the million-word count a \"sexy idea\" that is \"all hype and no substance.\" Linguists and lexicographers run into further complications when trying to count words that are spelled one way but can have several meanings, said Allan Metcalf, an English professor at MacMurray College in Illinois, and an officer at the American Dialect Society. \"The word bear, b-e-a-r -- is that two words or one, for example? You have a noun that's a wild creature and then you have b-e-a-r, [which means] to bear left or to bear right, and there's many other things,\" he said. \"So you really can't be exact about a millionth word.\" Payack said he doesn't consider his to be the definitive count, just an interesting estimation based on set criteria he has helped develop. \"It's always an estimation,\" he said. \"It's like the height of Mount Everest is an estimation. The height of Mount Everest has changed five times in my lifetime because as we get better tools, the estimates get better.\" He said the count is meant to be a celebration of English as a global language. And, while he says other languages are being stamped out by English's expansion, it's a powerful thing that so many people today are able to communicate with such a vast list of words.'\n",
            "\n",
            "Summary: 'Julian Zelizer: Sen. John Kerry held hearing on future of newspapers and news . Zelizer says newspapers are endangered by rise of new media . Focus should be on what new media can do to ensure quality reporting . Zelizer: Pursuit of objectivity is a needed goal for Web-based news .'\n",
            "Text: 'Editor's note: Julian E. Zelizer is a professor of history and public affairs at Princeton University's Woodrow Wilson School. His new book, \"Arsenal of Democracy: The Politics of National Security -- From World War II to the War on Terrorism,\" will be published this fall by Basic Books. Zelizer writes widely about current events. Julian E. Zelizer says it's vital that new media provide support for journalism that strives for objectivity. (CNN) -- Last week, Sen. John Kerry convened a discussion of the troubled state of journalism in America by way of a hearing by the Senate Commerce Committee's Subcommittee on Communications, Technology, and the Internet. In Kerry's home state of Massachusetts, the Boston Globe is barely surviving. Several major metro papers have closed down, and there are indications that many more could soon follow. Experts have been warning in recent months that much of the newspaper industry may not survive. While the end of the metro newspaper would constitute a huge blow to journalism and the political system, realistically there might be nothing that we can do. The popularity of news on the Web and the potential of mobile devices such as the Kindle makes it difficult to see how we can sustain news in print -- unless electronic delivery can produce enough revenue to support the cost of newspaper staffs. Sometimes technological innovations and consumer preferences cause changes that are irreversible. The industry has seen other important shifts in the way that Americans receive their news, such as the advent of television news in the 1950s and 1960s. But the real issue is not whether we can save the newspapers, but how we can create the best Internet news system possible. As Kerry said in his opening statement: \"There also is the important question of whether online journalism will sustain the values of professional journalism, the way the newspaper industry has.\" The first challenge we must address has to do with editorial control. A great danger of blog-based news is that information disseminates instantly with very little editorial supervision. On too many sites, information goes right from writer to reader. In the heyday of daily newspapers and network news, the news cycle was slow, lasting over the course of a day. There was a considerable amount of time for reporters, editors, and producers to check and verify information before it reached the public eye. Those days are gone. The result is too often that incorrect information circulates quickly. It will be crucial that television news networks continue to maintain Web sites which have the financial capital to support an editorial and production staff and that the newspapers which do survive find ways to expand their online operations, turning them into commercially lucrative ventures. Only they can finance the kind of infrastructure that good journalism requires. The second challenge we face has to do with polarization. Most studies of politics show that polarization has increased significantly throughout American politics. The media are both a product and cause of this political phenomenon. In Congress, there are fewer centrists in either party who are willing to compromise. Unfortunately, we have seen a similar phenomenon in the news business. During the 1990s, FOX News promoted a style of journalism framed within a clear conservative perspective. In recent years, liberals have mimicked these efforts. The nightly broadcasts of MSNBC have offered a counterpoint on the left, with television shows offering news from a liberal perspective. Bloggers on the Web follow this model as well. Not believing that the norm of objectivity is attainable, they prefer to present their political views openly and tend to be much more partisan in how they interpret world events. Moreover, readers and viewers tend to go for their information to sites and channels where they can see their own perspectives confirmed. It will be difficult to counteract these kinds of trends since they are so deep-rooted in American politics. But at a minimum, someone needs to fund reporters who keep covering the story and who at least strive to achieve as much objectivity as possible. There are many Web sites that do undertake this mission, but it will be essential that there is continued and expanded support for reporting as the metro newspapers slowly vanish. The final challenge has to do with fragmentation of news outlets. One of the great advantages of the Internet is that it has broken the monopoly the networks and major newspapers maintained on reporting the news. But the cost of fragmentation is that there are so many competing sites, some run by lone individuals and others by organizations, that Americans have fewer sources that can expose them to a diverse range of stories and that can make clear the interconnections between events that are taking place. When you read the newspaper, it is possible to get a rounded picture of the world by flipping through the international news, national news, arts, business, sports, and more. Now, many sites focus on narrow subject matter. How can we bring the pieces together? The multiplicity of sources on the Web forces the reader to be his own editor, and not many people are inclined to do all the work of scanning a variety of the relevant sites to get a full picture. All of these are challenges to journalism, but we should not lose hope in the potential of the Internet to provide high-quality news. The Internet offers many advantages. The speed can be an asset as readers learn of breaking stories more quickly. Editors have less power to stifle stories because of political or economic pressure. With so many more outlets, somehow the news will get out. Hyperlinked stories can offer readers easy connections to related information and even to original documents through which they can draw their own conclusions about what reporters are saying. The Internet offers room for many more perspectives than existed when just three network anchors and the local newspaper told Americans what was happening. The Internet can also combine written news with video and audio sources, as well as disseminate stories through social networking sites. Readers have the opportunities to interact with reporters and comment on stories. The death of the metro newspaper would be a huge loss. But rather than only focusing on lament, our best response would be to make the new medium of Internet news as strong as it can possibly be. We must address the major challenges by developing sites with the resources to edit, insisting on venues where the pursuit of objectivity remains a goal, and cultivating sites that help bring together different subject matter. If we do, the technological transition that we are living through can turn into a positive moment of advance for the media rather than a moment of decline. The opinions expressed in this commentary are solely those of Julian Zelizer.'\n",
            "\n",
            "Summary: 'Структуры ВТБ получили около 6% акций «Аэрофлота». Это сделка РЕПО, объясняют в «ВТБ Капитале»: краткосрочный кредит под залог акций. Аналитики уверены, что к ВТБ перешла часть пакета Александра Лебедева, и не исключают, что миноритарий может отказаться от обратного выкупа. Лебедеву требуется финансирование на развитие медиахолдинга и компании Red Wings.'\n",
            "Text: '« ВТБ Капитал» приобрел 5,91% акций «Аэрофлота». В собственность инвестподразделения ВТБ перешло 65,6 млн бумаг, сообщил российский авиаперевозчик в четверг. На лицевой счет акции были зачислены 9 марта. «Бумаги «Аэрофлота» находятся на счетах « ВТБ Капитал а» в рамках краткосрочной сделки РЕПО, заключенной на ММВБ », — сообщил «Газете.Ru» соруководитель департамента операций на рынке акций «ВТБ Капитал» Андрей Гиричев. В «Аэрофлоте» «Газете.Ru» подтвердили, что «это сделка РЕПО», отказавшись от дальнейших комментариев. В сделке РЕПО участвует пакет акций «Аэрофлота», принадлежащий предпринимателю Александру Лебедеву, предполагают опрошенные «Газетой.Ru» отраслевые эксперты. «Если это не техническая сделка, то, возможно, Лебедев решил избавиться от пакета, он последовательно сокращает участие в капитале «Аэрофлота», — вспоминает аналитик Газпромбанка Алексей Астапов. — Миноритарий ранее выражал недовольство отсутствием возможности влиять на принятие решений в компании». У Лебедева есть другие проекты: авиакомпания Red Wings и медийные активы — «Новая газета» и две радиостанции, напоминает аналитик. «Их надо развивать, а для этого требуются деньги», — резюмирует Астапов. В 2009 году ВТБ уже оказывался акционером «Аэрофлота» в рамках серии сделок РЕПО с Лебедевым. Тогда VTB Bank Europe получал пакеты объемом от 4,56% до 10,62% акций. «Национальная резервная корпорация» Лебедева последовательно выкупала бумаги с баланса ВТБ. Но помимо сделок РЕПО в декабре 2010 года Лебедев продал 4% акций «Аэрофлота» на открытом рынке. С Лебедевым в четверг связаться не удалось. В его пресс-службе ситуацию прокомментировать затруднились. По сообщению от 16 марта на сайте НР-банка (принадлежит Лебедеву), на балансе кредитной организации находилось 9,82% акций «Аэрофлота». «14 марта пакет уменьшился с 10,82%. Каждый день мы покупаем и продаем их», — объяснил источник в банке. Андрей Рожков, аналитик ИФК «Метрополь», не исключает классической сделки РЕПО с акциями «Аэрофлота»: «Возможно, собственник привлекает краткосрочные заимствования под залог акций и предполагает обратный выкуп». По оценкам Рожкова сумма сделки составляет $175—180 млн. В среду капитализация «Аэрофлота» по котировкам на ММВБ составляет около $2,9 млрд. «На протяжении длительного времени бумаги «Аэрофлота» показывают хорошую динамику. С конца февраля они выросли на 10%», — напоминает руководитель аналитического отдела «Авиапорта» Олег Пантелеев. Потенциал увеличения стоимости «Аэрофлота» в среднесрочной перспективе связан с интеграцией в его бизнес авиационных активов госкорпорации «Ростехнологии»: «Владивосток Авиа», «Саратовских авиалиний», «Сахалинских авиатрасс», ФГУП ГТК «Россия», «Оренбургских авиалиний» и «Кавминводыавиа». В «Финаме» рекомендуют инвесторам покупать акции с 20-процентным потенциалом роста к концу 2011 года — до $3,20 за бумагу. В случае отказа структур Лебедева от выкупа бумаг у ВТБ пакет может приобрести сам «Аэрофлот» в рамках подготовки к консолидации компании с активами Ростехнологий , полагает Александр Чуриков , аналитик ФК «Открытие». Сейчас «Аэрофлот» владеет 7% собственных акций.'\n"
          ]
        }
      ],
      "source": [
        "def show_samples(dataset, num_samples=3, seed=125):\n",
        "    sample = dataset[\"train\"].shuffle(seed=seed).select(range(num_samples))\n",
        "    for example in sample:\n",
        "        print(f\"\\nSummary: '{example['summary']}'\")\n",
        "        print(f\"Text: '{example['text']}'\")\n",
        "\n",
        "show_samples(dataset)"
      ]
    },
    {
      "cell_type": "code",
      "execution_count": null,
      "metadata": {
        "id": "9tYi0UUtOOwS"
      },
      "outputs": [],
      "source": [
        "from transformers import AutoTokenizer\n",
        "\n",
        "model_name = \"google/mt5-small\"\n",
        "tokenizer = AutoTokenizer.from_pretrained(model_name)"
      ]
    },
    {
      "cell_type": "code",
      "execution_count": null,
      "metadata": {
        "id": "JtuHuGpQRsE5"
      },
      "outputs": [],
      "source": [
        "max_input_length = 512\n",
        "max_target_length = 256\n",
        "\n",
        "def preprocess_function(examples):\n",
        "    model_inputs = tokenizer(\n",
        "        examples[\"text\"],\n",
        "        max_length=max_input_length,\n",
        "        truncation=True,\n",
        "    )\n",
        "    labels = tokenizer(\n",
        "        examples[\"summary\"], max_length=max_target_length, truncation=True\n",
        "    )\n",
        "    model_inputs[\"labels\"] = labels[\"input_ids\"]\n",
        "    return model_inputs"
      ]
    },
    {
      "cell_type": "code",
      "execution_count": null,
      "metadata": {
        "id": "QNfPdrrxqsd4"
      },
      "outputs": [],
      "source": [
        "tokenized_dataset = dataset.map(preprocess_function, batched=True)"
      ]
    },
    {
      "cell_type": "code",
      "source": [
        "tokenized_dataset"
      ],
      "metadata": {
        "colab": {
          "base_uri": "https://localhost:8080/"
        },
        "id": "6HLnCLHIhzI5",
        "outputId": "890b37e9-36ec-493a-bdeb-fde1a578ff6d"
      },
      "execution_count": null,
      "outputs": [
        {
          "output_type": "execute_result",
          "data": {
            "text/plain": [
              "DatasetDict({\n",
              "    train: Dataset({\n",
              "        features: ['summary', 'text', 'input_ids', 'attention_mask', 'labels'],\n",
              "        num_rows: 30000\n",
              "    })\n",
              "    validation: Dataset({\n",
              "        features: ['summary', 'text', 'input_ids', 'attention_mask', 'labels'],\n",
              "        num_rows: 4000\n",
              "    })\n",
              "    test: Dataset({\n",
              "        features: ['summary', 'text', 'input_ids', 'attention_mask', 'labels'],\n",
              "        num_rows: 4000\n",
              "    })\n",
              "})"
            ]
          },
          "metadata": {},
          "execution_count": 86
        }
      ]
    },
    {
      "cell_type": "code",
      "source": [
        "!pip install pandas matplotlib seaborn datasets"
      ],
      "metadata": {
        "id": "dvCFHn3Rij8j"
      },
      "execution_count": null,
      "outputs": []
    },
    {
      "cell_type": "code",
      "source": [
        "dataset = tokenized_dataset\n",
        "\n",
        "# Convert the dataset to a DataFrame for easier manipulation\n",
        "train_df = pd.DataFrame(dataset['train'])\n",
        "validation_df = pd.DataFrame(dataset['validation'])\n",
        "test_df = pd.DataFrame(dataset['test'])\n",
        "\n",
        "# Combine the dataframes for overall analysis if needed\n",
        "combined_df = pd.concat([train_df, validation_df, test_df], ignore_index=True)"
      ],
      "metadata": {
        "id": "58XVIqWIil-0"
      },
      "execution_count": null,
      "outputs": []
    },
    {
      "cell_type": "code",
      "source": [
        "from datasets import load_dataset\n",
        "import matplotlib.pyplot as plt\n",
        "import seaborn as sns\n",
        "import pandas as pd\n",
        "\n",
        "plt.figure(figsize=(10, 6))\n",
        "sns.histplot(train_df['text'].apply(len), bins=50, kde=True, color='blue', label='Train')\n",
        "sns.histplot(validation_df['text'].apply(len), bins=50, kde=True, color='green', label='Validation')\n",
        "sns.histplot(test_df['text'].apply(len), bins=50, kde=True, color='red', label='Test')\n",
        "plt.xlabel('Длина предложения')\n",
        "plt.ylabel('Частота')\n",
        "plt.title('Распределение длин предложений')\n",
        "plt.legend()\n",
        "plt.show()"
      ],
      "metadata": {
        "colab": {
          "base_uri": "https://localhost:8080/",
          "height": 564
        },
        "id": "ph_1ODDCiyr8",
        "outputId": "d63bc470-06a2-4d39-b423-01a0c9789c0e"
      },
      "execution_count": null,
      "outputs": [
        {
          "output_type": "display_data",
          "data": {
            "text/plain": [
              "<Figure size 1000x600 with 1 Axes>"
            ],
            "image/png": "[encoded data removed]"
          },
          "metadata": {}
        }
      ]
    },
    {
      "cell_type": "code",
      "execution_count": null,
      "metadata": {
        "id": "Tbt0kmlStRtA"
      },
      "outputs": [],
      "source": [
        "from transformers import TFAutoModelForSeq2SeqLM\n",
        "\n",
        "model = TFAutoModelForSeq2SeqLM.from_pretrained(model_name)"
      ]
    },
    {
      "cell_type": "code",
      "execution_count": null,
      "metadata": {
        "id": "H_6OR93HtVmT"
      },
      "outputs": [],
      "source": [
        "from transformers import DataCollatorForSeq2Seq\n",
        "\n",
        "data_collator = DataCollatorForSeq2Seq(tokenizer, model=model, return_tensors=\"tf\")"
      ]
    },
    {
      "cell_type": "code",
      "execution_count": null,
      "metadata": {
        "id": "LG8qDBdOtvYq"
      },
      "outputs": [],
      "source": [
        "clean_tokenized_dataset = tokenized_dataset.remove_columns(\n",
        "    dataset[\"train\"].column_names\n",
        ")"
      ]
    },
    {
      "cell_type": "code",
      "execution_count": null,
      "metadata": {
        "id": "GUoDni0pugJB"
      },
      "outputs": [],
      "source": [
        "tf_train_dataset = model.prepare_tf_dataset(\n",
        "    clean_tokenized_dataset[\"train\"],\n",
        "    collate_fn=data_collator,\n",
        "    shuffle=True,\n",
        "    batch_size=8,\n",
        ")\n",
        "tf_eval_dataset = model.prepare_tf_dataset(\n",
        "    clean_tokenized_dataset[\"validation\"],\n",
        "    collate_fn=data_collator,\n",
        "    shuffle=False,\n",
        "    batch_size=8,\n",
        ")"
      ]
    },
    {
      "cell_type": "code",
      "execution_count": null,
      "metadata": {
        "id": "ggflib6Cvx3r"
      },
      "outputs": [],
      "source": [
        "from transformers import create_optimizer\n",
        "import tensorflow as tf\n",
        "\n",
        "num_train_epochs = 8\n",
        "num_train_steps = len(tf_train_dataset) * num_train_epochs\n",
        "\n",
        "optimizer, schedule = create_optimizer(\n",
        "    init_lr=5e-5,\n",
        "    num_warmup_steps=0,\n",
        "    num_train_steps=num_train_steps,\n",
        "    weight_decay_rate=0.01,\n",
        ")\n",
        "\n",
        "model.compile(optimizer=optimizer)\n",
        "\n",
        "tf.keras.mixed_precision.set_global_policy(\"mixed_float16\")"
      ]
    },
    {
      "cell_type": "code",
      "execution_count": null,
      "metadata": {
        "id": "3jqdiwzBw27M"
      },
      "outputs": [],
      "source": [
        "from huggingface_hub import notebook_login\n",
        "\n",
        "notebook_login()"
      ]
    },
    {
      "cell_type": "code",
      "execution_count": null,
      "metadata": {
        "id": "RTS9vrD-v-yj"
      },
      "outputs": [],
      "source": [
        "from transformers.keras_callbacks import PushToHubCallback\n",
        "\n",
        "callback = PushToHubCallback(\n",
        "    output_dir=f\"mt5-summarizer-3\", tokenizer=tokenizer\n",
        ")\n",
        "\n",
        "model.fit(\n",
        "    tf_train_dataset, validation_data=tf_eval_dataset, callbacks=[callback], epochs=num_train_epochs\n",
        ")"
      ]
    },
    {
      "cell_type": "markdown",
      "metadata": {
        "id": "qIESU_6bcVHY"
      },
      "source": [
        "# Использование"
      ]
    },
    {
      "cell_type": "code",
      "execution_count": null,
      "metadata": {
        "id": "jiMus0wjys1v"
      },
      "outputs": [],
      "source": [
        "! pip install datasets evaluate transformers rouge-score nltk"
      ]
    },
    {
      "cell_type": "code",
      "execution_count": null,
      "metadata": {
        "id": "D3dR8M8VccC1"
      },
      "outputs": [],
      "source": [
        "# Load model directly\n",
        "from transformers import AutoTokenizer, AutoModelForSeq2SeqLM\n",
        "\n",
        "tokenizer = AutoTokenizer.from_pretrained(\"avaimon/mt5-summarizer\")"
      ]
    },
    {
      "cell_type": "code",
      "execution_count": null,
      "metadata": {
        "id": "PBOnyslTigFE"
      },
      "outputs": [],
      "source": [
        "model = AutoModelForSeq2SeqLM.from_pretrained(\"avaimon/mt5-summarizer\", from_tf=True)"
      ]
    },
    {
      "cell_type": "code",
      "source": [
        "!pip install evaluate"
      ],
      "metadata": {
        "id": "6UKOyAmZmx98"
      },
      "execution_count": null,
      "outputs": []
    },
    {
      "cell_type": "code",
      "execution_count": null,
      "metadata": {
        "id": "bfWZlBUAyLVM"
      },
      "outputs": [],
      "source": [
        "import nltk\n",
        "import numpy as np\n",
        "from evaluate import load\n",
        "\n",
        "metric = load(\"rouge\")\n",
        "\n",
        "def compute_metrics(eval_pred):\n",
        "    predictions, labels = eval_pred\n",
        "    decoded_preds = tokenizer.batch_decode(predictions, skip_special_tokens=True)\n",
        "    # Replace -100 in the labels as we can't decode them.\n",
        "    labels = np.where(labels != -100, labels, tokenizer.pad_token_id)\n",
        "    decoded_labels = tokenizer.batch_decode(labels, skip_special_tokens=True)\n",
        "\n",
        "    # Rouge expects a newline after each sentence\n",
        "    decoded_preds = [\"\\n\".join(nltk.sent_tokenize(pred.strip())) for pred in decoded_preds]\n",
        "    decoded_labels = [\"\\n\".join(nltk.sent_tokenize(label.strip())) for label in decoded_labels]\n",
        "\n",
        "    # Note that other metrics may not have a `use_aggregator` parameter\n",
        "    # and thus will return a list, computing a metric for each sentence.\n",
        "    result = metric.compute(predictions=decoded_preds, references=decoded_labels, use_stemmer=True, use_aggregator=True)\n",
        "    # Extract a few results\n",
        "    result = {key: value * 100 for key, value in result.items()}\n",
        "\n",
        "    # Add mean generated length\n",
        "    prediction_lens = [np.count_nonzero(pred != tokenizer.pad_token_id) for pred in predictions]\n",
        "    result[\"gen_len\"] = np.mean(prediction_lens)\n",
        "\n",
        "    return {k: round(v, 4) for k, v in result.items()}"
      ]
    },
    {
      "cell_type": "code",
      "execution_count": null,
      "metadata": {
        "id": "vxDfmBgushXA",
        "collapsed": true
      },
      "outputs": [],
      "source": [
        "# Use a pipeline as a high-level helper\n",
        "from transformers import pipeline\n",
        "\n",
        "pipe = pipeline(\"summarization\", model=\"avaimon/mt5-summarizer\")"
      ]
    },
    {
      "cell_type": "code",
      "execution_count": null,
      "metadata": {
        "id": "PZ7kQPNbs7_E"
      },
      "outputs": [],
      "source": [
        "idx = 123\n",
        "text = \"На этих выходных в Берлине прошли крупные акции протеста против введенных для борьбы с коронавирусом ограничений. Демонстранты скандировали «Путин!» По словам депутата городской палаты представителей Гуннара Линдеманна («Альтернатива для Германии»), люди выкрикивали фамилию российского президента из уважения к нему. В комментарии РИА «Новости» немецкий политик отметил, что среди населения Германии Владимир Путин имеет хорошую репутацию. По его мнению, протестующие ранее пришли к российскому посольству, чтобы «привлечь внимание к условиям в Германии», надеясь, что Россия сможет оказать влияние на канцлера ФРГ Ангелу Меркель. «На мой взгляд, опасности для посольства России не возникло ни разу», — сказал депутат. Несмотря на то что протест оказался массовым, выступления носили «преимущественно мирный характер», уверен Линдеманн. По его словам, исключением стала только ситуацию у немецкого парламента. Там «несколько странных участников демонстрации попытались штурмовать бундестаг в знак протеста против правительства». Но и здесь, как считает политик, «реальной опасности не было». «Полиция не всегда реагировала соразмерно. Стали известны случаи чрезмерного насилия со стороны полиции, с которыми мы будем разбираться на парламентском уровне в берлинской палате представителей», — отметил он. В эти выходные — 29 и 30 августа — в Берлине прошли массовые акции протеста против антикоронавирусных мер: ношения масок и соблюдения безопасного расстояния в 1,5 м друг от друга. Манифестанты требуют ослабить или отменить ограничения. По данным таблоида Bild, в марше приняли участие около 30 тыс. человек. По официальным данным, манифестантов было почти в два раза меньше — 18 тыс. Протестующие начали собираться в субботу с самого утра на улице Унтер-ден-Линден. После этого они прошли маршем через центр Берлина. Финальной точкой должна была стать Улица 17-июня рядом с Брандербургскими воротами. Из-за акции протеста полиции пришлось ограничить движение по улицам Унтер-ден-Линден, Фридрихштрассе. В частности, было перекрыто пространство вокруг Бранденбургских ворот, а также Александерплац и Лейпцигерплац. Российское посольство находится по улице Унтер-ден-Линден. Именно там произошли стычки протестующих с полицией. Там же собравшиеся начали скандировать фамилию российского президента. При этом участники манифестации забрасывали полицейских бутылками и камнями. По словам представителя берлинской полиции, действия демонстрантов не были направлены против дипмиссии. «У произошедшего не было политических мотивов. На улице Унтер ден Линден находилась группа примерно в две тысячи человек, из которой в полицию бросали бутылки и камни. Два человека задержаны», — рассказала она в комментарии РИА «Новости». Позднее сенатор Берлина по вопросам внутренней политики Андреас Гайзель в прямом эфире Inforadio отметил, что часть полицейских была направлена именно к посольству России, из-за чего была ослаблена охрана бундестага. Как следствие, протестующие его чуть не захватили. «Исходили из того, что парламент, естественно, должен быть защищен. Но на улице Унтер-ден-Линден, почти перед российским посольством были насильственные действия, там кидали бутылки и камни, были раненые, задержано более 200 человек — там было необходимо полицейское подкрепление, и произошла переброска сил. Это длилось несколько минут. Это еще нуждается в оценке», — заявил сенатор. Ранее ТАСС сообщал, что всего за порядком наблюдали порядка 3 тыс. правоохранителей. Причем 1 тыс. служащих были направлены из других федеральных земель. В правоохранительных органах отмечали, что «безуспешно призывали» протестующих соблюдать положенные правила. Всего в субботу были задержаны 316 человек. Обвинения были предъявлены 131 демонстранту, 33 полицейских пострадали.\"\n",
        "summary = \"Протестующие против антикоронавирусных мер немцы скандировали имя российского президента, потому что уважают его. Такое мнение выразил депутат городской палаты представителей Гуннар Линдеманн. На этих выходных в Берлине прошли крупные акции протеста. Манифестанты требовали отменить ношение масок и отказаться от соблюдения безопасного расстояния в 1,5 м друг от друга.\"\n",
        "predicted_summary = pipe(text, max_new_tokens=256)[0][\"summary_text\"]\n",
        "print(f\">>> Text: {text}\")\n",
        "print(f\"\\n>>> Summary: {summary}\")\n",
        "print(f\"\\n>>> Predicted Summary: {predicted_summary}\")"
      ]
    },
    {
      "cell_type": "code",
      "source": [
        "en_text = \"English contains more words than any other language on the planet and added its millionth word early Wednesday, according to the Global Language Monitor, a Web site that uses a math formula to estimate how often words are created. The Global Language Monitor says the millionth word was added to English on Wednesday. The site estimates the millionth English word, Web 2.0 was added to the language Wednesday at 5:22 a.m. ET. The term refers to the second, more social generation of the Internet. The site says more than 14 words are added to English every day, at the current rate. The Million Word March, however, has made the man who runs this word-counting project somewhat of a pariah in the linguistic community. Some linguists say it's impossible to count the number of words in a language because languages are always changing, and because defining what counts as a word is a fruitless endeavor. Paul J.J. Payack, president and chief word analyst for the Global Language Monitor, says, however, that the million-word estimation isn't as important as the idea behind his project, which is to show that English has become a complex, global language.\"\n",
        "en_summary = \"The Global Language Monitor announced that English reached its millionth word, Web 2.0, at 5:22 a.m. ET on Wednesday, reflecting the language's vast and dynamic nature. According to the website, which uses a mathematical formula to estimate word creation, over 14 words are added to English daily. However, the project, led by Paul J.J. Payack, faces criticism from linguists who argue that counting words in a language is impractical due to constant changes and challenges in defining what constitutes a word. Despite controversy, Payack emphasizes that the project's significance lies in highlighting English's complexity and global reach.\"\n",
        "predicted_en_summary = pipe(en_text)[0][\"summary_text\"]\n",
        "print(f\">>> Text: {en_text}\")\n",
        "print(f\"\\n>>> Predicted Summary: {predicted_en_summary}\")"
      ],
      "metadata": {
        "id": "aOi5kAVm73-i"
      },
      "execution_count": null,
      "outputs": []
    },
    {
      "cell_type": "code",
      "source": [
        "!pip install rouge_score"
      ],
      "metadata": {
        "id": "714D4Ac3c-xR"
      },
      "execution_count": null,
      "outputs": []
    },
    {
      "cell_type": "code",
      "source": [
        "import evaluate\n",
        "\n",
        "rouge_score = evaluate.load(\"rouge\")"
      ],
      "metadata": {
        "id": "nXPYhxtTdGQF"
      },
      "execution_count": null,
      "outputs": []
    },
    {
      "cell_type": "code",
      "source": [
        "scores = rouge_score.compute(\n",
        "    predictions=[predicted_summary], references=[summary]\n",
        ")\n",
        "scores"
      ],
      "metadata": {
        "id": "99uEEnzTegBi"
      },
      "execution_count": null,
      "outputs": []
    },
    {
      "cell_type": "code",
      "source": [
        "from rouge_score import rouge_scorer\n",
        "\n",
        "# Initialize the ROUGE scorer\n",
        "scorer = rouge_scorer.RougeScorer(['rouge1', 'rouge2', 'rougeL'], use_stemmer=True)\n",
        "\n",
        "# Compute ROUGE scores\n",
        "scores = scorer.score(summ, orig_summ)\n",
        "\n",
        "# Print the ROUGE scores\n",
        "for metric, score in scores.items():\n",
        "    print(f\"{metric}: Precision: {score.precision:.4f}, Recall: {score.recall:.4f}, F1: {score.fmeasure:.4f}.\")"
      ],
      "metadata": {
        "id": "WXREf0klc1IO"
      },
      "execution_count": null,
      "outputs": []
    },
    {
      "cell_type": "markdown",
      "metadata": {
        "id": "7IRRcoE9xQjH"
      },
      "source": [
        "# Облегченный вариант"
      ]
    },
    {
      "cell_type": "code",
      "source": [
        "!pip install fastt5"
      ],
      "metadata": {
        "id": "1O4ZrHHURvSb"
      },
      "execution_count": null,
      "outputs": []
    },
    {
      "cell_type": "code",
      "source": [
        "!pip uninstall -y transformers\n",
        "!pip install git+https://github.com/huggingface/transformers"
      ],
      "metadata": {
        "id": "WJ-mMejjbNbl"
      },
      "execution_count": null,
      "outputs": []
    },
    {
      "cell_type": "code",
      "source": [
        "T5_PATH = 't5-small' # T5 model name\n",
        "\n",
        "# initialize the model architecture and weights\n",
        "\n",
        "t5_model = T5ForConditionalGeneration.from_pretrained(T5_PATH)\n",
        "\n",
        "# initialize the model tokenizer\n",
        "\n",
        "t5_tokenizer = T5Tokenizer.from_pretrained(T5_PATH)"
      ],
      "metadata": {
        "id": "iQfOnz_CNlL-"
      },
      "execution_count": null,
      "outputs": []
    },
    {
      "cell_type": "code",
      "source": [
        "\n",
        "inputs = tokenizer.encode(\"summarize: \" + en_text, return_tensors=\"pt\", max_length=512, padding='max_length', truncation=True)\n",
        "\n",
        "summary_ids = t5_model.generate(inputs,\n",
        "                                    num_beams=int(2),\n",
        "                                    no_repeat_ngram_size=3,\n",
        "                                    length_penalty=2.0,\n",
        "                                    min_length=128,\n",
        "                                    max_length=128,\n",
        "                                    early_stopping=True)\n",
        "\n",
        "output = t5_tokenizer.decode(summary_ids[0], skip_special_tokens=True, clean_up_tokenization_spaces=True)\n",
        "output"
      ],
      "metadata": {
        "id": "Qb_SNBDVNCmM"
      },
      "execution_count": null,
      "outputs": []
    },
    {
      "cell_type": "code",
      "execution_count": null,
      "metadata": {
        "id": "3IAd1S4NxPMm"
      },
      "outputs": [],
      "source": [
        "import torch\n",
        "import json\n",
        "from transformers import T5Tokenizer, T5ForConditionalGeneration, T5Config\n",
        "\n",
        "# model = T5ForConditionalGeneration.from_pretrained('google-t5/t5-small')\n",
        "model_name = 't5-small'\n",
        "model = export_and_get_onnx_model(model_name)\n",
        "\n",
        "# tokenizer = T5Tokenizer.from_pretrained('google-t5/t5-small')\n",
        "tokenizer = AutoTokenizer.from_pretrained(model_name)\n",
        "device = torch.device('cpu')"
      ]
    },
    {
      "cell_type": "code",
      "execution_count": null,
      "metadata": {
        "id": "FyTyBMV531kF"
      },
      "outputs": [],
      "source": [
        "text = text = dataset[\"test\"][99][\"text\"]\n",
        "preprocess_text = text.strip().replace(\"\\n\",\"\")\n",
        "t5_prepared_Text = \"summarize: \" + preprocess_text\n",
        "print (\"original text preprocessed: \\n\", t5_prepared_Text)\n",
        "\n",
        "tokenized_text = tokenizer.encode(t5_prepared_Text, return_tensors=\"pt\").to(device)"
      ]
    },
    {
      "cell_type": "code",
      "execution_count": null,
      "metadata": {
        "id": "OkgzH7uI34iM"
      },
      "outputs": [],
      "source": [
        "# summmarize\n",
        "summary_ids = model.generate(tokenized_text,\n",
        "                                    num_beams=4,\n",
        "                                    no_repeat_ngram_size=2,\n",
        "                                    min_length=128,\n",
        "                                    max_length=256,\n",
        "                                    early_stopping=True)\n",
        "\n",
        "output = tokenizer.decode(summary_ids[0], skip_special_tokens=True)"
      ]
    },
    {
      "cell_type": "code",
      "source": [
        "!pip install optimum[exporters-tf]"
      ],
      "metadata": {
        "id": "jBY-2jFPBBEt"
      },
      "execution_count": null,
      "outputs": []
    },
    {
      "cell_type": "code",
      "source": [
        "!optimum-cli export tflite --model google-bert/bert-base-uncased --sequence_length 128 bert_tflite/"
      ],
      "metadata": {
        "id": "JRh3DxiZJaNF"
      },
      "execution_count": null,
      "outputs": []
    },
    {
      "cell_type": "code",
      "source": [
        "from transformers import MT5ForConditionalGeneration, MT5Tokenizer\n",
        "\n",
        "# Define the model name\n",
        "model_name = \"google/mt5-small\"\n",
        "\n",
        "# Initialize tokenizer and model\n",
        "tokenizer = MT5Tokenizer.from_pretrained(model_name)\n",
        "model = MT5ForConditionalGeneration.from_pretrained(model_name)\n",
        "\n",
        "# Define local directory paths for model and tokenizer\n",
        "model_dir = \"path_to_model_directory\"\n",
        "tokenizer_dir = \"path_to_tokenizer_directory\"\n",
        "\n",
        "# Save the model and tokenizer to local directory\n",
        "model.save_pretrained(model_dir)\n",
        "tokenizer.save_pretrained(tokenizer_dir)\n",
        "\n",
        "print(\"Model and tokenizer downloaded and saved to local directory.\")"
      ],
      "metadata": {
        "id": "t7-49x-7iKeH"
      },
      "execution_count": null,
      "outputs": []
    },
    {
      "cell_type": "markdown",
      "source": [
        "# BERT extractive"
      ],
      "metadata": {
        "id": "OqzkzmwnUvl3"
      }
    },
    {
      "cell_type": "code",
      "source": [
        "import nltk\n",
        "\n",
        "nltk.download('punkt')\n",
        "\n",
        "from nltk.tokenize import sent_tokenize\n",
        "\n",
        "def sentencize(text):\n",
        "  return [sentence.strip() for sentence in nltk.sent_tokenize(text)]"
      ],
      "metadata": {
        "id": "n64xkt4rqczj"
      },
      "execution_count": null,
      "outputs": []
    },
    {
      "cell_type": "code",
      "source": [
        "print(sent_tokenize(\"Hello there! How are you doing today? This is a sample text.\"))\n",
        "print(sent_tokenize(\"Привет! Как делишки. Ты говоришь по русски?\"))"
      ],
      "metadata": {
        "id": "ZQfz0M_3qdLf"
      },
      "execution_count": null,
      "outputs": []
    },
    {
      "cell_type": "code",
      "source": [
        "text_ru = \"На этих выходных в Берлине прошли крупные акции протеста против введенных для борьбы с коронавирусом ограничений. Демонстранты скандировали «Путин!» По словам депутата городской палаты представителей Гуннара Линдеманна («Альтернатива для Германии»), люди выкрикивали фамилию российского президента из уважения к нему. В комментарии РИА «Новости» немецкий политик отметил, что среди населения Германии Владимир Путин имеет хорошую репутацию. По его мнению, протестующие ранее пришли к российскому посольству, чтобы «привлечь внимание к условиям в Германии», надеясь, что Россия сможет оказать влияние на канцлера ФРГ Ангелу Меркель. «На мой взгляд, опасности для посольства России не возникло ни разу», — сказал депутат. Несмотря на то что протест оказался массовым, выступления носили «преимущественно мирный характер», уверен Линдеманн. По его словам, исключением стала только ситуацию у немецкого парламента. Там «несколько странных участников демонстрации попытались штурмовать бундестаг в знак протеста против правительства». Но и здесь, как считает политик, «реальной опасности не было». «Полиция не всегда реагировала соразмерно. Стали известны случаи чрезмерного насилия со стороны полиции, с которыми мы будем разбираться на парламентском уровне в берлинской палате представителей», — отметил он. В эти выходные — 29 и 30 августа — в Берлине прошли массовые акции протеста против антикоронавирусных мер: ношения масок и соблюдения безопасного расстояния в 1,5 м друг от друга. Манифестанты требуют ослабить или отменить ограничения. По данным таблоида Bild, в марше приняли участие около 30 тыс. человек. По официальным данным, манифестантов было почти в два раза меньше — 18 тыс. Протестующие начали собираться в субботу с самого утра на улице Унтер-ден-Линден. После этого они прошли маршем через центр Берлина. Финальной точкой должна была стать Улица 17-июня рядом с Брандербургскими воротами. Из-за акции протеста полиции пришлось ограничить движение по улицам Унтер-ден-Линден, Фридрихштрассе. В частности, было перекрыто пространство вокруг Бранденбургских ворот, а также Александерплац и Лейпцигерплац. Российское посольство находится по улице Унтер-ден-Линден. Именно там произошли стычки протестующих с полицией. Там же собравшиеся начали скандировать фамилию российского президента. При этом участники манифестации забрасывали полицейских бутылками и камнями. По словам представителя берлинской полиции, действия демонстрантов не были направлены против дипмиссии. «У произошедшего не было политических мотивов. На улице Унтер ден Линден находилась группа примерно в две тысячи человек, из которой в полицию бросали бутылки и камни. Два человека задержаны», — рассказала она в комментарии РИА «Новости». Позднее сенатор Берлина по вопросам внутренней политики Андреас Гайзель в прямом эфире Inforadio отметил, что часть полицейских была направлена именно к посольству России, из-за чего была ослаблена охрана бундестага. Как следствие, протестующие его чуть не захватили. «Исходили из того, что парламент, естественно, должен быть защищен. Но на улице Унтер-ден-Линден, почти перед российским посольством были насильственные действия, там кидали бутылки и камни, были раненые, задержано более 200 человек — там было необходимо полицейское подкрепление, и произошла переброска сил. Это длилось несколько минут. Это еще нуждается в оценке», — заявил сенатор. Ранее ТАСС сообщал, что всего за порядком наблюдали порядка 3 тыс. правоохранителей. Причем 1 тыс. служащих были направлены из других федеральных земель. В правоохранительных органах отмечали, что «безуспешно призывали» протестующих соблюдать положенные правила. Всего в субботу были задержаны 316 человек. Обвинения были предъявлены 131 демонстранту, 33 полицейских пострадали.\"\n",
        "text_en = \"English contains more words than any other language on the planet and added its millionth word early Wednesday, according to the Global Language Monitor, a Web site that uses a math formula to estimate how often words are created. The Global Language Monitor says the millionth word was added to English on Wednesday. The site estimates the millionth English word, Web 2.0 was added to the language Wednesday at 5:22 a.m. The term refers to the second, more social generation of the Internet. The site says more than 14 words are added to English every day, at the current rate. The Million Word March, however, has made the man who runs this word-counting project somewhat of a pariah in the linguistic community. Some linguists say it's impossible to count the number of words in a language because languages are always changing, and because defining what counts as a word is a fruitless endeavor. Paul J.J. Payack, president and chief word analyst for the Global Language Monitor, says, however, that the million-word estimation isn't as important as the idea behind his project, which is to show that English has become a complex, global language.\""
      ],
      "metadata": {
        "id": "uXAOv8STU0_g"
      },
      "execution_count": null,
      "outputs": []
    },
    {
      "cell_type": "code",
      "source": [
        "text_long = \"The Moon may be the final frontier for mankind, but what will we eat when we get there? Pasta and protein bars made out of thin air are just the beginning. Space fever is approaching at warp speed. In the next two years, Nasa plans to send astronauts back to the Moon via its Artemis programme; the International Space Station (ISS), designed to orbit for 15 years but now hitting its 26th year in space, will soon be replaced; and scientists are looking seriously into the possibility of manned deep space missions. Add to that a proliferation of tourism projects rocketing deep-pocketed individuals up to the edge of space and it begs one question for a food writer like me: what will we eat when we get there? Food is something that keeps astronauts sane, says Dr Sonja Brungs, astronaut operations deputy lead at the European Space Agency. Good food, proper food with a lot of variety, tailored to the needs of the individual astronauts is crucial for a successful deep space mission. I think people underestimate how important it is. Currently, astronauts are given small food pouches containing prepared meals. These meals are made by specialised food-production companies and then freeze-dried, dehydrated or thermostabilised. Astronauts add water to heat or cool the meals to eat; they can also bring along a special meal that reminds them of home (this too has to be carefully formulated and thermostablised). There are some no-gos: anything that crumbs, like bread, can't be taken into space as the crumbs can easily become airborne in the low-gravity environment, meaning they could be inhaled or get into vital equipment. Salt is limited, due to the fact that the body stores sodium differently in space, leading to accelerated osteoporosis, and alcohol is also not permitted as it affects the waste water recycling system in the ISS. Novelty is definitely an issue, says Brungs. Astronauts who are in space for just six months miss crunchiness and texture. It is really important for mental wellbeing to have a variety of textures, and especially for deep space missions, having a variety of foods to eat. In 2021, Nasa launched a Deep Space Food Challenge to discover new ways to create food in space with limited resources producing minimal waste, while also providing safe, nutritious and tasty food that can perform on a long-term deep space mission. Solar Foods, based in Helsinki, is one of the eight companies that has reached the challenge's final phase. Their remarkable concept: using space waste to create protein. We make food out of thin air, quite literally, says Artuu Luukanen, Solar Foods' senior vice president in Space and Defence. His company discovered an edible microbe in the Finnish countryside that grows by feeding on a mixture of carbon dioxide, hydrogen and oxygen. The result is a source of protein from bacteria. The protein can be blended with a range of flavours or textures to create various kinds of nutritious food, such as pasta, protein bars, alternative meats and even an egg replacement. We started thinking about space food because in any space habitat, you have two key waste gases available: hydrogen and carbon dioxide, Luukanen said. So what we are talking about here is really not just a food manufacturing technology for space, but something that will be an integral part of the environmental control and life support system.\""
      ],
      "metadata": {
        "id": "yWivN7F3Rd5K"
      },
      "execution_count": null,
      "outputs": []
    },
    {
      "cell_type": "code",
      "source": [
        "import pandas as pd\n",
        "\n",
        "data_ru = pd.DataFrame(sentencize(text_ru), columns = ['sentence'])\n",
        "data_en = pd.DataFrame(sentencize(text_en), columns = ['sentence'])\n",
        "\n",
        "data_long = pd.DataFrame(sentencize(text_long), columns = ['sentence'])\n",
        "data_long"
      ],
      "metadata": {
        "id": "AbwDfJHF5-Dj"
      },
      "execution_count": null,
      "outputs": []
    },
    {
      "cell_type": "code",
      "source": [
        "!pip install -U sentence-transformers"
      ],
      "metadata": {
        "collapsed": true,
        "id": "xWAZjsa19J-t"
      },
      "execution_count": null,
      "outputs": []
    },
    {
      "cell_type": "code",
      "source": [
        "from sentence_transformers import SentenceTransformer\n",
        "embedding_model = SentenceTransformer('all-mpnet-base-v2')"
      ],
      "metadata": {
        "id": "Eu8DZzqz7KWV"
      },
      "execution_count": null,
      "outputs": []
    },
    {
      "cell_type": "code",
      "source": [
        "def get_sentence_embeddings(sentence):\n",
        "    return embedding_model.encode([sentence])[0]\n",
        "\n",
        "# get_sentence_embeddings(\"English contains more words than any other language.\")e"
      ],
      "metadata": {
        "collapsed": true,
        "id": "YoO3A65M67ot"
      },
      "execution_count": null,
      "outputs": []
    },
    {
      "cell_type": "code",
      "source": [
        "data_long['embeddings']=data_long['sentence'].apply(get_sentence_embeddings)\n",
        "# data_ru['embeddings']=data_en['sentence'].apply(get_sentence_embeddings)"
      ],
      "metadata": {
        "id": "AhojpomjloO9"
      },
      "execution_count": null,
      "outputs": []
    },
    {
      "cell_type": "code",
      "source": [
        "from sklearn.cluster import KMeans\n",
        "import numpy as np\n",
        "\n",
        "def get_text_clusters(data, n_clusters):\n",
        "  model = KMeans(n_clusters = n_clusters)\n",
        "  return model.fit_predict(data), model.cluster_centers_\n",
        "\n",
        "assigned_clusters, centers = get_text_clusters(np.array(data_long['embeddings'].tolist()), 5)"
      ],
      "metadata": {
        "id": "cqPIx1hImfYm"
      },
      "execution_count": null,
      "outputs": []
    },
    {
      "cell_type": "code",
      "source": [
        "data_long['cluster']=pd.Series(assigned_clusters, index=data_long.index)\n",
        "data_long['centroid']=data_long['cluster'].apply(lambda x: centers[x])\n",
        "data_long"
      ],
      "metadata": {
        "colab": {
          "base_uri": "https://localhost:8080/",
          "height": 833
        },
        "id": "NNYMhK45tcir",
        "outputId": "b0c232b4-a74e-4fe2-c2ba-3dc1b2fb28c9"
      },
      "execution_count": null,
      "outputs": [
        {
          "output_type": "execute_result",
          "data": {
            "text/plain": [
              "                                             sentence  \\\n",
              "0   The Moon may be the final frontier for mankind...   \n",
              "1   Pasta and protein bars made out of thin air ar...   \n",
              "2           Space fever is approaching at warp speed.   \n",
              "3   In the next two years, Nasa plans to send astr...   \n",
              "4   Add to that a proliferation of tourism project...   \n",
              "5   Food is something that keeps astronauts sane, ...   \n",
              "6   Good food, proper food with a lot of variety, ...   \n",
              "7   I think people underestimate how important it is.   \n",
              "8   Currently, astronauts are given small food pou...   \n",
              "9   These meals are made by specialised food-produ...   \n",
              "10  Astronauts add water to heat or cool the meals...   \n",
              "11  There are some no-gos: anything that crumbs, l...   \n",
              "12  Salt is limited, due to the fact that the body...   \n",
              "13       Novelty is definitely an issue, says Brungs.   \n",
              "14  Astronauts who are in space for just six month...   \n",
              "15  It is really important for mental wellbeing to...   \n",
              "16  In 2021, Nasa launched a Deep Space Food Chall...   \n",
              "17  Solar Foods, based in Helsinki, is one of the ...   \n",
              "18  Their remarkable concept: using space waste to...   \n",
              "19  We make food out of thin air, quite literally,...   \n",
              "20  His company discovered an edible microbe in th...   \n",
              "21   The result is a source of protein from bacteria.   \n",
              "22  The protein can be blended with a range of fla...   \n",
              "23  We started thinking about space food because i...   \n",
              "24  So what we are talking about here is really no...   \n",
              "\n",
              "                                           embeddings  cluster  \\\n",
              "0   [0.122831464, 0.056791443, -0.021970093, -0.08...        1   \n",
              "1   [0.017823303, 0.052053384, 0.0042437525, -0.02...        0   \n",
              "2   [0.041289125, 0.040269922, 0.017955923, -0.068...        4   \n",
              "3   [0.08572641, 0.028865313, 0.0008973057, -0.056...        4   \n",
              "4   [0.08879637, 0.03583433, -0.008422016, -0.0687...        1   \n",
              "5   [0.05847875, 0.048646543, -0.004814679, -0.007...        1   \n",
              "6   [0.052722055, 0.01962759, -0.013532931, -0.043...        1   \n",
              "7   [-0.008284432, 0.089556105, -0.00749824, -0.00...        3   \n",
              "8   [0.053120185, -0.0064414153, -0.007998563, -0....        1   \n",
              "9   [0.02030807, -0.04389323, -0.019658972, 0.0196...        2   \n",
              "10  [0.023580676, -0.023223277, -0.0037271562, -0....        1   \n",
              "11  [0.038237523, 0.025949182, 0.01628155, -0.0267...        1   \n",
              "12  [0.07802635, -0.022941805, -0.022114543, -0.02...        1   \n",
              "13  [0.044629026, -0.024124209, -0.0067085107, -0....        3   \n",
              "14  [0.061622646, 0.049253028, -0.013626481, -0.03...        1   \n",
              "15  [0.0637624, 0.032826368, -0.047324914, -0.0144...        1   \n",
              "16  [0.072208405, 0.05880953, -0.008708068, -0.029...        1   \n",
              "17  [0.0663188, -0.016402958, -0.043310724, -0.026...        2   \n",
              "18  [0.10341518, 0.08265958, 0.00022046582, -0.015...        2   \n",
              "19  [0.084010206, -0.046487786, 0.002366549, 0.016...        2   \n",
              "20  [0.10765623, 0.05625338, -0.01657634, -0.03082...        2   \n",
              "21  [0.036403134, -0.044825736, 0.01547412, -0.036...        0   \n",
              "22  [0.041059177, 0.0016344053, -0.0054448415, -0....        0   \n",
              "23  [0.12405496, 0.017783802, -0.0033291555, -0.04...        2   \n",
              "24  [0.06879864, -0.01651557, -0.02530814, -0.0332...        2   \n",
              "\n",
              "                                             centroid  \n",
              "0   [0.06485335, 0.025011957, -0.012359809, -0.032...  \n",
              "1   [0.03176187, 0.0029540174, 0.004757678, -0.026...  \n",
              "2   [0.063507766, 0.034567617, 0.009426614, -0.062...  \n",
              "3   [0.063507766, 0.034567617, 0.009426614, -0.062...  \n",
              "4   [0.06485335, 0.025011957, -0.012359809, -0.032...  \n",
              "5   [0.06485335, 0.025011957, -0.012359809, -0.032...  \n",
              "6   [0.06485335, 0.025011957, -0.012359809, -0.032...  \n",
              "7   [0.018172298, 0.032715946, -0.007103375, -0.01...  \n",
              "8   [0.06485335, 0.025011957, -0.012359809, -0.032...  \n",
              "9   [0.082080305, 0.0047710296, -0.015085189, -0.0...  \n",
              "10  [0.06485335, 0.025011957, -0.012359809, -0.032...  \n",
              "11  [0.06485335, 0.025011957, -0.012359809, -0.032...  \n",
              "12  [0.06485335, 0.025011957, -0.012359809, -0.032...  \n",
              "13  [0.018172298, 0.032715946, -0.007103375, -0.01...  \n",
              "14  [0.06485335, 0.025011957, -0.012359809, -0.032...  \n",
              "15  [0.06485335, 0.025011957, -0.012359809, -0.032...  \n",
              "16  [0.06485335, 0.025011957, -0.012359809, -0.032...  \n",
              "17  [0.082080305, 0.0047710296, -0.015085189, -0.0...  \n",
              "18  [0.082080305, 0.0047710296, -0.015085189, -0.0...  \n",
              "19  [0.082080305, 0.0047710296, -0.015085189, -0.0...  \n",
              "20  [0.082080305, 0.0047710296, -0.015085189, -0.0...  \n",
              "21  [0.03176187, 0.0029540174, 0.004757678, -0.026...  \n",
              "22  [0.03176187, 0.0029540174, 0.004757678, -0.026...  \n",
              "23  [0.082080305, 0.0047710296, -0.015085189, -0.0...  \n",
              "24  [0.082080305, 0.0047710296, -0.015085189, -0.0...  "
            ],
            "text/html": [
              "\n",
              "  <div id=\"df-bf1caf07-516b-46cf-8a6d-0d5c4f9f3bb6\" class=\"colab-df-container\">\n",
              "    <div>\n",
              "<style scoped>\n",
              "    .dataframe tbody tr th:only-of-type {\n",
              "        vertical-align: middle;\n",
              "    }\n",
              "\n",
              "    .dataframe tbody tr th {\n",
              "        vertical-align: top;\n",
              "    }\n",
              "\n",
              "    .dataframe thead th {\n",
              "        text-align: right;\n",
              "    }\n",
              "</style>\n",
              "<table border=\"1\" class=\"dataframe\">\n",
              "  <thead>\n",
              "    <tr style=\"text-align: right;\">\n",
              "      <th></th>\n",
              "      <th>sentence</th>\n",
              "      <th>embeddings</th>\n",
              "      <th>cluster</th>\n",
              "      <th>centroid</th>\n",
              "    </tr>\n",
              "  </thead>\n",
              "  <tbody>\n",
              "    <tr>\n",
              "      <th>0</th>\n",
              "      <td>The Moon may be the final frontier for mankind...</td>\n",
              "      <td>[0.122831464, 0.056791443, -0.021970093, -0.08...</td>\n",
              "      <td>1</td>\n",
              "      <td>[0.06485335, 0.025011957, -0.012359809, -0.032...</td>\n",
              "    </tr>\n",
              "    <tr>\n",
              "      <th>1</th>\n",
              "      <td>Pasta and protein bars made out of thin air ar...</td>\n",
              "      <td>[0.017823303, 0.052053384, 0.0042437525, -0.02...</td>\n",
              "      <td>0</td>\n",
              "      <td>[0.03176187, 0.0029540174, 0.004757678, -0.026...</td>\n",
              "    </tr>\n",
              "    <tr>\n",
              "      <th>2</th>\n",
              "      <td>Space fever is approaching at warp speed.</td>\n",
              "      <td>[0.041289125, 0.040269922, 0.017955923, -0.068...</td>\n",
              "      <td>4</td>\n",
              "      <td>[0.063507766, 0.034567617, 0.009426614, -0.062...</td>\n",
              "    </tr>\n",
              "    <tr>\n",
              "      <th>3</th>\n",
              "      <td>In the next two years, Nasa plans to send astr...</td>\n",
              "      <td>[0.08572641, 0.028865313, 0.0008973057, -0.056...</td>\n",
              "      <td>4</td>\n",
              "      <td>[0.063507766, 0.034567617, 0.009426614, -0.062...</td>\n",
              "    </tr>\n",
              "    <tr>\n",
              "      <th>4</th>\n",
              "      <td>Add to that a proliferation of tourism project...</td>\n",
              "      <td>[0.08879637, 0.03583433, -0.008422016, -0.0687...</td>\n",
              "      <td>1</td>\n",
              "      <td>[0.06485335, 0.025011957, -0.012359809, -0.032...</td>\n",
              "    </tr>\n",
              "    <tr>\n",
              "      <th>5</th>\n",
              "      <td>Food is something that keeps astronauts sane, ...</td>\n",
              "      <td>[0.05847875, 0.048646543, -0.004814679, -0.007...</td>\n",
              "      <td>1</td>\n",
              "      <td>[0.06485335, 0.025011957, -0.012359809, -0.032...</td>\n",
              "    </tr>\n",
              "    <tr>\n",
              "      <th>6</th>\n",
              "      <td>Good food, proper food with a lot of variety, ...</td>\n",
              "      <td>[0.052722055, 0.01962759, -0.013532931, -0.043...</td>\n",
              "      <td>1</td>\n",
              "      <td>[0.06485335, 0.025011957, -0.012359809, -0.032...</td>\n",
              "    </tr>\n",
              "    <tr>\n",
              "      <th>7</th>\n",
              "      <td>I think people underestimate how important it is.</td>\n",
              "      <td>[-0.008284432, 0.089556105, -0.00749824, -0.00...</td>\n",
              "      <td>3</td>\n",
              "      <td>[0.018172298, 0.032715946, -0.007103375, -0.01...</td>\n",
              "    </tr>\n",
              "    <tr>\n",
              "      <th>8</th>\n",
              "      <td>Currently, astronauts are given small food pou...</td>\n",
              "      <td>[0.053120185, -0.0064414153, -0.007998563, -0....</td>\n",
              "      <td>1</td>\n",
              "      <td>[0.06485335, 0.025011957, -0.012359809, -0.032...</td>\n",
              "    </tr>\n",
              "    <tr>\n",
              "      <th>9</th>\n",
              "      <td>These meals are made by specialised food-produ...</td>\n",
              "      <td>[0.02030807, -0.04389323, -0.019658972, 0.0196...</td>\n",
              "      <td>2</td>\n",
              "      <td>[0.082080305, 0.0047710296, -0.015085189, -0.0...</td>\n",
              "    </tr>\n",
              "    <tr>\n",
              "      <th>10</th>\n",
              "      <td>Astronauts add water to heat or cool the meals...</td>\n",
              "      <td>[0.023580676, -0.023223277, -0.0037271562, -0....</td>\n",
              "      <td>1</td>\n",
              "      <td>[0.06485335, 0.025011957, -0.012359809, -0.032...</td>\n",
              "    </tr>\n",
              "    <tr>\n",
              "      <th>11</th>\n",
              "      <td>There are some no-gos: anything that crumbs, l...</td>\n",
              "      <td>[0.038237523, 0.025949182, 0.01628155, -0.0267...</td>\n",
              "      <td>1</td>\n",
              "      <td>[0.06485335, 0.025011957, -0.012359809, -0.032...</td>\n",
              "    </tr>\n",
              "    <tr>\n",
              "      <th>12</th>\n",
              "      <td>Salt is limited, due to the fact that the body...</td>\n",
              "      <td>[0.07802635, -0.022941805, -0.022114543, -0.02...</td>\n",
              "      <td>1</td>\n",
              "      <td>[0.06485335, 0.025011957, -0.012359809, -0.032...</td>\n",
              "    </tr>\n",
              "    <tr>\n",
              "      <th>13</th>\n",
              "      <td>Novelty is definitely an issue, says Brungs.</td>\n",
              "      <td>[0.044629026, -0.024124209, -0.0067085107, -0....</td>\n",
              "      <td>3</td>\n",
              "      <td>[0.018172298, 0.032715946, -0.007103375, -0.01...</td>\n",
              "    </tr>\n",
              "    <tr>\n",
              "      <th>14</th>\n",
              "      <td>Astronauts who are in space for just six month...</td>\n",
              "      <td>[0.061622646, 0.049253028, -0.013626481, -0.03...</td>\n",
              "      <td>1</td>\n",
              "      <td>[0.06485335, 0.025011957, -0.012359809, -0.032...</td>\n",
              "    </tr>\n",
              "    <tr>\n",
              "      <th>15</th>\n",
              "      <td>It is really important for mental wellbeing to...</td>\n",
              "      <td>[0.0637624, 0.032826368, -0.047324914, -0.0144...</td>\n",
              "      <td>1</td>\n",
              "      <td>[0.06485335, 0.025011957, -0.012359809, -0.032...</td>\n",
              "    </tr>\n",
              "    <tr>\n",
              "      <th>16</th>\n",
              "      <td>In 2021, Nasa launched a Deep Space Food Chall...</td>\n",
              "      <td>[0.072208405, 0.05880953, -0.008708068, -0.029...</td>\n",
              "      <td>1</td>\n",
              "      <td>[0.06485335, 0.025011957, -0.012359809, -0.032...</td>\n",
              "    </tr>\n",
              "    <tr>\n",
              "      <th>17</th>\n",
              "      <td>Solar Foods, based in Helsinki, is one of the ...</td>\n",
              "      <td>[0.0663188, -0.016402958, -0.043310724, -0.026...</td>\n",
              "      <td>2</td>\n",
              "      <td>[0.082080305, 0.0047710296, -0.015085189, -0.0...</td>\n",
              "    </tr>\n",
              "    <tr>\n",
              "      <th>18</th>\n",
              "      <td>Their remarkable concept: using space waste to...</td>\n",
              "      <td>[0.10341518, 0.08265958, 0.00022046582, -0.015...</td>\n",
              "      <td>2</td>\n",
              "      <td>[0.082080305, 0.0047710296, -0.015085189, -0.0...</td>\n",
              "    </tr>\n",
              "    <tr>\n",
              "      <th>19</th>\n",
              "      <td>We make food out of thin air, quite literally,...</td>\n",
              "      <td>[0.084010206, -0.046487786, 0.002366549, 0.016...</td>\n",
              "      <td>2</td>\n",
              "      <td>[0.082080305, 0.0047710296, -0.015085189, -0.0...</td>\n",
              "    </tr>\n",
              "    <tr>\n",
              "      <th>20</th>\n",
              "      <td>His company discovered an edible microbe in th...</td>\n",
              "      <td>[0.10765623, 0.05625338, -0.01657634, -0.03082...</td>\n",
              "      <td>2</td>\n",
              "      <td>[0.082080305, 0.0047710296, -0.015085189, -0.0...</td>\n",
              "    </tr>\n",
              "    <tr>\n",
              "      <th>21</th>\n",
              "      <td>The result is a source of protein from bacteria.</td>\n",
              "      <td>[0.036403134, -0.044825736, 0.01547412, -0.036...</td>\n",
              "      <td>0</td>\n",
              "      <td>[0.03176187, 0.0029540174, 0.004757678, -0.026...</td>\n",
              "    </tr>\n",
              "    <tr>\n",
              "      <th>22</th>\n",
              "      <td>The protein can be blended with a range of fla...</td>\n",
              "      <td>[0.041059177, 0.0016344053, -0.0054448415, -0....</td>\n",
              "      <td>0</td>\n",
              "      <td>[0.03176187, 0.0029540174, 0.004757678, -0.026...</td>\n",
              "    </tr>\n",
              "    <tr>\n",
              "      <th>23</th>\n",
              "      <td>We started thinking about space food because i...</td>\n",
              "      <td>[0.12405496, 0.017783802, -0.0033291555, -0.04...</td>\n",
              "      <td>2</td>\n",
              "      <td>[0.082080305, 0.0047710296, -0.015085189, -0.0...</td>\n",
              "    </tr>\n",
              "    <tr>\n",
              "      <th>24</th>\n",
              "      <td>So what we are talking about here is really no...</td>\n",
              "      <td>[0.06879864, -0.01651557, -0.02530814, -0.0332...</td>\n",
              "      <td>2</td>\n",
              "      <td>[0.082080305, 0.0047710296, -0.015085189, -0.0...</td>\n",
              "    </tr>\n",
              "  </tbody>\n",
              "</table>\n",
              "</div>\n",
              "    <div class=\"colab-df-buttons\">\n",
              "\n",
              "  <div class=\"colab-df-container\">\n",
              "    <button class=\"colab-df-convert\" onclick=\"convertToInteractive('df-bf1caf07-516b-46cf-8a6d-0d5c4f9f3bb6')\"\n",
              "            title=\"Convert this dataframe to an interactive table.\"\n",
              "            style=\"display:none;\">\n",
              "\n",
              "  <svg xmlns=\"http://www.w3.org/2000/svg\" height=\"24px\" viewBox=\"0 -960 960 960\">\n",
              "    <path d=\"M120-120v-720h720v720H120Zm60-500h600v-160H180v160Zm220 220h160v-160H400v160Zm0 220h160v-160H400v160ZM180-400h160v-160H180v160Zm440 0h160v-160H620v160ZM180-180h160v-160H180v160Zm440 0h160v-160H620v160Z\"/>\n",
              "  </svg>\n",
              "    </button>\n",
              "\n",
              "  <style>\n",
              "    .colab-df-container {\n",
              "      display:flex;\n",
              "      gap: 12px;\n",
              "    }\n",
              "\n",
              "    .colab-df-convert {\n",
              "      background-color: #E8F0FE;\n",
              "      border: none;\n",
              "      border-radius: 50%;\n",
              "      cursor: pointer;\n",
              "      display: none;\n",
              "      fill: #1967D2;\n",
              "      height: 32px;\n",
              "      padding: 0 0 0 0;\n",
              "      width: 32px;\n",
              "    }\n",
              "\n",
              "    .colab-df-convert:hover {\n",
              "      background-color: #E2EBFA;\n",
              "      box-shadow: 0px 1px 2px rgba(60, 64, 67, 0.3), 0px 1px 3px 1px rgba(60, 64, 67, 0.15);\n",
              "      fill: #174EA6;\n",
              "    }\n",
              "\n",
              "    .colab-df-buttons div {\n",
              "      margin-bottom: 4px;\n",
              "    }\n",
              "\n",
              "    [theme=dark] .colab-df-convert {\n",
              "      background-color: #3B4455;\n",
              "      fill: #D2E3FC;\n",
              "    }\n",
              "\n",
              "    [theme=dark] .colab-df-convert:hover {\n",
              "      background-color: #434B5C;\n",
              "      box-shadow: 0px 1px 3px 1px rgba(0, 0, 0, 0.15);\n",
              "      filter: drop-shadow(0px 1px 2px rgba(0, 0, 0, 0.3));\n",
              "      fill: #FFFFFF;\n",
              "    }\n",
              "  </style>\n",
              "\n",
              "    <script>\n",
              "      const buttonEl =\n",
              "        document.querySelector('#df-bf1caf07-516b-46cf-8a6d-0d5c4f9f3bb6 button.colab-df-convert');\n",
              "      buttonEl.style.display =\n",
              "        google.colab.kernel.accessAllowed ? 'block' : 'none';\n",
              "\n",
              "      async function convertToInteractive(key) {\n",
              "        const element = document.querySelector('#df-bf1caf07-516b-46cf-8a6d-0d5c4f9f3bb6');\n",
              "        const dataTable =\n",
              "          await google.colab.kernel.invokeFunction('convertToInteractive',\n",
              "                                                    [key], {});\n",
              "        if (!dataTable) return;\n",
              "\n",
              "        const docLinkHtml = 'Like what you see? Visit the ' +\n",
              "          '<a target=\"_blank\" href=https://colab.research.google.com/notebooks/data_table.ipynb>data table notebook</a>'\n",
              "          + ' to learn more about interactive tables.';\n",
              "        element.innerHTML = '';\n",
              "        dataTable['output_type'] = 'display_data';\n",
              "        await google.colab.output.renderOutput(dataTable, element);\n",
              "        const docLink = document.createElement('div');\n",
              "        docLink.innerHTML = docLinkHtml;\n",
              "        element.appendChild(docLink);\n",
              "      }\n",
              "    </script>\n",
              "  </div>\n",
              "\n",
              "\n",
              "<div id=\"df-f3f7b4e4-6870-489e-8f4c-ae31424f0c44\">\n",
              "  <button class=\"colab-df-quickchart\" onclick=\"quickchart('df-f3f7b4e4-6870-489e-8f4c-ae31424f0c44')\"\n",
              "            title=\"Suggest charts\"\n",
              "            style=\"display:none;\">\n",
              "\n",
              "<svg xmlns=\"http://www.w3.org/2000/svg\" height=\"24px\"viewBox=\"0 0 24 24\"\n",
              "     width=\"24px\">\n",
              "    <g>\n",
              "        <path d=\"M19 3H5c-1.1 0-2 .9-2 2v14c0 1.1.9 2 2 2h14c1.1 0 2-.9 2-2V5c0-1.1-.9-2-2-2zM9 17H7v-7h2v7zm4 0h-2V7h2v10zm4 0h-2v-4h2v4z\"/>\n",
              "    </g>\n",
              "</svg>\n",
              "  </button>\n",
              "\n",
              "<style>\n",
              "  .colab-df-quickchart {\n",
              "      --bg-color: #E8F0FE;\n",
              "      --fill-color: #1967D2;\n",
              "      --hover-bg-color: #E2EBFA;\n",
              "      --hover-fill-color: #174EA6;\n",
              "      --disabled-fill-color: #AAA;\n",
              "      --disabled-bg-color: #DDD;\n",
              "  }\n",
              "\n",
              "  [theme=dark] .colab-df-quickchart {\n",
              "      --bg-color: #3B4455;\n",
              "      --fill-color: #D2E3FC;\n",
              "      --hover-bg-color: #434B5C;\n",
              "      --hover-fill-color: #FFFFFF;\n",
              "      --disabled-bg-color: #3B4455;\n",
              "      --disabled-fill-color: #666;\n",
              "  }\n",
              "\n",
              "  .colab-df-quickchart {\n",
              "    background-color: var(--bg-color);\n",
              "    border: none;\n",
              "    border-radius: 50%;\n",
              "    cursor: pointer;\n",
              "    display: none;\n",
              "    fill: var(--fill-color);\n",
              "    height: 32px;\n",
              "    padding: 0;\n",
              "    width: 32px;\n",
              "  }\n",
              "\n",
              "  .colab-df-quickchart:hover {\n",
              "    background-color: var(--hover-bg-color);\n",
              "    box-shadow: 0 1px 2px rgba(60, 64, 67, 0.3), 0 1px 3px 1px rgba(60, 64, 67, 0.15);\n",
              "    fill: var(--button-hover-fill-color);\n",
              "  }\n",
              "\n",
              "  .colab-df-quickchart-complete:disabled,\n",
              "  .colab-df-quickchart-complete:disabled:hover {\n",
              "    background-color: var(--disabled-bg-color);\n",
              "    fill: var(--disabled-fill-color);\n",
              "    box-shadow: none;\n",
              "  }\n",
              "\n",
              "  .colab-df-spinner {\n",
              "    border: 2px solid var(--fill-color);\n",
              "    border-color: transparent;\n",
              "    border-bottom-color: var(--fill-color);\n",
              "    animation:\n",
              "      spin 1s steps(1) infinite;\n",
              "  }\n",
              "\n",
              "  @keyframes spin {\n",
              "    0% {\n",
              "      border-color: transparent;\n",
              "      border-bottom-color: var(--fill-color);\n",
              "      border-left-color: var(--fill-color);\n",
              "    }\n",
              "    20% {\n",
              "      border-color: transparent;\n",
              "      border-left-color: var(--fill-color);\n",
              "      border-top-color: var(--fill-color);\n",
              "    }\n",
              "    30% {\n",
              "      border-color: transparent;\n",
              "      border-left-color: var(--fill-color);\n",
              "      border-top-color: var(--fill-color);\n",
              "      border-right-color: var(--fill-color);\n",
              "    }\n",
              "    40% {\n",
              "      border-color: transparent;\n",
              "      border-right-color: var(--fill-color);\n",
              "      border-top-color: var(--fill-color);\n",
              "    }\n",
              "    60% {\n",
              "      border-color: transparent;\n",
              "      border-right-color: var(--fill-color);\n",
              "    }\n",
              "    80% {\n",
              "      border-color: transparent;\n",
              "      border-right-color: var(--fill-color);\n",
              "      border-bottom-color: var(--fill-color);\n",
              "    }\n",
              "    90% {\n",
              "      border-color: transparent;\n",
              "      border-bottom-color: var(--fill-color);\n",
              "    }\n",
              "  }\n",
              "</style>\n",
              "\n",
              "  <script>\n",
              "    async function quickchart(key) {\n",
              "      const quickchartButtonEl =\n",
              "        document.querySelector('#' + key + ' button');\n",
              "      quickchartButtonEl.disabled = true;  // To prevent multiple clicks.\n",
              "      quickchartButtonEl.classList.add('colab-df-spinner');\n",
              "      try {\n",
              "        const charts = await google.colab.kernel.invokeFunction(\n",
              "            'suggestCharts', [key], {});\n",
              "      } catch (error) {\n",
              "        console.error('Error during call to suggestCharts:', error);\n",
              "      }\n",
              "      quickchartButtonEl.classList.remove('colab-df-spinner');\n",
              "      quickchartButtonEl.classList.add('colab-df-quickchart-complete');\n",
              "    }\n",
              "    (() => {\n",
              "      let quickchartButtonEl =\n",
              "        document.querySelector('#df-f3f7b4e4-6870-489e-8f4c-ae31424f0c44 button');\n",
              "      quickchartButtonEl.style.display =\n",
              "        google.colab.kernel.accessAllowed ? 'block' : 'none';\n",
              "    })();\n",
              "  </script>\n",
              "</div>\n",
              "    </div>\n",
              "  </div>\n"
            ],
            "application/vnd.google.colaboratory.intrinsic+json": {
              "type": "dataframe",
              "variable_name": "data_long",
              "summary": "{\n  \"name\": \"data_long\",\n  \"rows\": 25,\n  \"fields\": [\n    {\n      \"column\": \"sentence\",\n      \"properties\": {\n        \"dtype\": \"string\",\n        \"num_unique_values\": 25,\n        \"samples\": [\n          \"Currently, astronauts are given small food pouches containing prepared meals.\",\n          \"In 2021, Nasa launched a Deep Space Food Challenge to discover new ways to create food in space with limited resources producing minimal waste, while also providing safe, nutritious and tasty food that can perform on a long-term deep space mission.\",\n          \"The Moon may be the final frontier for mankind, but what will we eat when we get there?\"\n        ],\n        \"semantic_type\": \"\",\n        \"description\": \"\"\n      }\n    },\n    {\n      \"column\": \"embeddings\",\n      \"properties\": {\n        \"dtype\": \"object\",\n        \"semantic_type\": \"\",\n        \"description\": \"\"\n      }\n    },\n    {\n      \"column\": \"cluster\",\n      \"properties\": {\n        \"dtype\": \"int32\",\n        \"num_unique_values\": 5,\n        \"samples\": [\n          0,\n          2,\n          4\n        ],\n        \"semantic_type\": \"\",\n        \"description\": \"\"\n      }\n    },\n    {\n      \"column\": \"centroid\",\n      \"properties\": {\n        \"dtype\": \"object\",\n        \"semantic_type\": \"\",\n        \"description\": \"\"\n      }\n    }\n  ]\n}"
            }
          },
          "metadata": {},
          "execution_count": 25
        }
      ]
    },
    {
      "cell_type": "code",
      "source": [
        "from scipy.spatial import distance_matrix\n",
        "def distance_from_centroid(row):\n",
        "    return distance_matrix([row['embeddings']], [row['centroid'].tolist()])[0][0]\n",
        "data_long['distance_from_centroid'] = data_long.apply(distance_from_centroid, axis=1)\n",
        "data_long"
      ],
      "metadata": {
        "id": "jjbAndSvvubY"
      },
      "execution_count": null,
      "outputs": []
    },
    {
      "cell_type": "code",
      "source": [
        "embs = np.array(data_long['sentence'].apply(get_sentence_embeddings).tolist())"
      ],
      "metadata": {
        "collapsed": true,
        "id": "_u_AHCM-bCiq"
      },
      "execution_count": null,
      "outputs": []
    },
    {
      "cell_type": "code",
      "source": [
        "# Reduce dimensions\n",
        "svd = TruncatedSVD(n_components=2)\n",
        "reduced_vectorized_data = svd.fit_transform(embs)\n",
        "\n",
        "# Calculate centroids\n",
        "cluster_labels = data_long['cluster']\n",
        "unique_clusters = np.unique(cluster_labels)\n",
        "centroids = np.array([reduced_vectorized_data[cluster_labels == cluster].mean(axis=0) for cluster in unique_clusters])\n",
        "\n",
        "# Plotting\n",
        "figure(figsize=(6, 4))\n",
        "plt.scatter(reduced_vectorized_data[:,0], reduced_vectorized_data[:,1], c=cluster_labels, label='Предложение')\n",
        "plt.scatter(centroids[:,0], centroids[:,1], c='red', marker='x', s=100, label='Центроид')\n",
        "plt.title(\"Распределение предложений по кластерам (при n_clusters = 5)\")\n",
        "plt.legend()\n",
        "plt.show()"
      ],
      "metadata": {
        "colab": {
          "base_uri": "https://localhost:8080/",
          "height": 391
        },
        "id": "GPxr6Z_AXPTw",
        "outputId": "4e2c905f-8c32-4719-9577-be13165b8c02"
      },
      "execution_count": null,
      "outputs": [
        {
          "output_type": "display_data",
          "data": {
            "text/plain": [
              "<Figure size 600x400 with 1 Axes>"
            ],
            "image/png": "[encoded data removed]"
          },
          "metadata": {}
        }
      ]
    },
    {
      "cell_type": "code",
      "source": [
        "summary=' '.join(data_long.sort_values('distance_from_centroid',ascending = True).groupby('cluster').head(1).sort_index()['sentence'].tolist())\n",
        "summary"
      ],
      "metadata": {
        "colab": {
          "base_uri": "https://localhost:8080/",
          "height": 70
        },
        "id": "yJ0cRT4vyT1l",
        "outputId": "d1d6c92e-9bc4-4956-e19d-811765e40641"
      },
      "execution_count": null,
      "outputs": [
        {
          "output_type": "execute_result",
          "data": {
            "text/plain": [
              "'Space fever is approaching at warp speed. Good food, proper food with a lot of variety, tailored to the needs of the individual astronauts is crucial for a successful deep space mission. I think people underestimate how important it is. The protein can be blended with a range of flavours or textures to create various kinds of nutritious food, such as pasta, protein bars, alternative meats and even an egg replacement. So what we are talking about here is really not just a food manufacturing technology for space, but something that will be an integral part of the environmental control and life support system.'"
            ],
            "application/vnd.google.colaboratory.intrinsic+json": {
              "type": "string"
            }
          },
          "metadata": {},
          "execution_count": 27
        }
      ]
    },
    {
      "cell_type": "code",
      "source": [
        "!pip install rouge-score"
      ],
      "metadata": {
        "id": "3oZYtAL9beW1"
      },
      "execution_count": null,
      "outputs": []
    },
    {
      "cell_type": "code",
      "source": [
        "from rouge_score import rouge_scorer\n",
        "\n",
        "# Example reference and generated summaries\n",
        "reference_summary = \"The quick brown fox jumps over the lazy dog.\"\n",
        "generated_summary = \"A fast, brown fox leaps over a lazy dog.\"\n",
        "\n",
        "# Initialize the ROUGE scorer\n",
        "scorer = rouge_scorer.RougeScorer(['rouge1', 'rouge2', 'rougeL'], use_stemmer=True)\n",
        "\n",
        "# Compute ROUGE scores\n",
        "scores = scorer.score(text_long, summary)\n",
        "\n",
        "# Print the ROUGE scores\n",
        "for metric, score in scores.items():\n",
        "    print(f\"{metric}: Precision: {score.precision:.4f}, Recall: {score.recall:.4f}, F1: {score.fmeasure:.4f}.\")"
      ],
      "metadata": {
        "id": "Pt2pJ_8lbVld"
      },
      "execution_count": null,
      "outputs": []
    }
  ],
  "metadata": {
    "colab": {
      "provenance": []
    },
    "kernelspec": {
      "display_name": "Python 3",
      "name": "python3"
    },
    "language_info": {
      "name": "python"
    }
  },
  "nbformat": 4,
  "nbformat_minor": 0
}